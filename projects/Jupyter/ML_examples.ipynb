{
 "nbformat": 4,
 "nbformat_minor": 0,
 "metadata": {
  "colab": {
   "name": "ML-examples.ipynb",
   "provenance": [],
   "collapsed_sections": []
  },
  "kernelspec": {
   "name": "python3",
   "display_name": "Python 3"
  },
  "language_info": {
   "name": "python"
  }
 },
 "cells": [
  {
   "cell_type": "markdown",
   "metadata": {
    "id": "rjG1i1_DFdug"
   },
   "source": [
    "# Feature Selection and Feature Extraction"
   ]
  },
  {
   "cell_type": "markdown",
   "metadata": {
    "id": "kHVFH5lLy90Q"
   },
   "source": [
    "## Feature Selection"
   ]
  },
  {
   "cell_type": "markdown",
   "metadata": {
    "id": "AElM6E6IBZ0U"
   },
   "source": [
    "For feature selection we will use Univariate Statistical Tests, this method is used to select features that have the strongest relationship with the output variable."
   ]
  },
  {
   "cell_type": "markdown",
   "metadata": {
    "id": "a0MhI9PH3DCe"
   },
   "source": [
    "### Importing libraires"
   ]
  },
  {
   "cell_type": "code",
   "metadata": {
    "id": "goaruJYiy8Yq"
   },
   "source": [
    "import numpy as np\n",
    "from sklearn.feature_selection import SelectKBest\n",
    "from sklearn.feature_selection import f_classif\n",
    "from sklearn.datasets import make_classification"
   ],
   "execution_count": null,
   "outputs": []
  },
  {
   "cell_type": "markdown",
   "metadata": {
    "id": "pt6HdR3W3Gff"
   },
   "source": [
    "### Prepare the dataset"
   ]
  },
  {
   "cell_type": "code",
   "metadata": {
    "id": "juE__kycDUg2",
    "colab": {
     "base_uri": "https://localhost:8080/"
    },
    "outputId": "80e0eab2-3df7-4bc5-d98d-78e7ceec9a82"
   },
   "source": [
    "X, y = make_classification(n_samples=1000, n_features=9, n_informative=2, n_redundant=0, random_state=1)\n",
    "X.shape"
   ],
   "execution_count": null,
   "outputs": [
    {
     "output_type": "execute_result",
     "data": {
      "text/plain": [
       "(1000, 9)"
      ]
     },
     "metadata": {},
     "execution_count": 40
    }
   ]
  },
  {
   "cell_type": "markdown",
   "metadata": {
    "id": "yrpz0zvx3RVt"
   },
   "source": [
    "### Model Fitting"
   ]
  },
  {
   "cell_type": "code",
   "metadata": {
    "colab": {
     "base_uri": "https://localhost:8080/"
    },
    "id": "8l_GDLxl3ZSV",
    "outputId": "d30d7162-abdb-4982-80e1-f4ff5d7c1803"
   },
   "source": [
    "model_selection = SelectKBest(score_func=f_classif, k=4)\n",
    "fit = model_selection.fit(X, y)\n",
    "fit.scores_"
   ],
   "execution_count": null,
   "outputs": [
    {
     "output_type": "execute_result",
     "data": {
      "text/plain": [
       "array([3.40655115e+00, 3.20071295e+00, 2.00702715e-01, 1.08281801e+00,\n",
       "       3.54266823e-01, 2.54639063e+00, 6.43308272e-01, 9.75108095e+02,\n",
       "       1.03607978e+00])"
      ]
     },
     "metadata": {},
     "execution_count": 41
    }
   ]
  },
  {
   "cell_type": "code",
   "metadata": {
    "colab": {
     "base_uri": "https://localhost:8080/"
    },
    "id": "tqn8eXME3lf-",
    "outputId": "de4f7455-6c27-4b91-83a2-c4a8b1a92bd8"
   },
   "source": [
    "features = fit.transform(X)\n",
    "features.shape"
   ],
   "execution_count": null,
   "outputs": [
    {
     "output_type": "execute_result",
     "data": {
      "text/plain": [
       "(1000, 4)"
      ]
     },
     "metadata": {},
     "execution_count": 42
    }
   ]
  },
  {
   "cell_type": "markdown",
   "metadata": {
    "id": "fmei_YrA7B01"
   },
   "source": [
    "## Feature Extraction\n",
    "We will use a linear algebra technique for data reduction which is Principal Component Analysis (PCA)."
   ]
  },
  {
   "cell_type": "markdown",
   "metadata": {
    "id": "RBhYPTgJApDI"
   },
   "source": [
    "### Importing libraires"
   ]
  },
  {
   "cell_type": "code",
   "metadata": {
    "id": "y0n03Npl7pzi"
   },
   "source": [
    "import numpy as np\n",
    "from sklearn.datasets import make_classification\n",
    "from sklearn.decomposition import PCA"
   ],
   "execution_count": null,
   "outputs": []
  },
  {
   "cell_type": "code",
   "metadata": {
    "colab": {
     "base_uri": "https://localhost:8080/"
    },
    "id": "KSYMR9foAoTM",
    "outputId": "b319ab99-d004-4f59-c2c2-b71e4c6841a7"
   },
   "source": [
    "X, y = make_classification(n_samples=1000, n_features=9, n_informative=2, n_redundant=0, random_state=1)\n",
    "X.shape"
   ],
   "execution_count": null,
   "outputs": [
    {
     "output_type": "execute_result",
     "data": {
      "text/plain": [
       "(1000, 9)"
      ]
     },
     "metadata": {},
     "execution_count": 44
    }
   ]
  },
  {
   "cell_type": "markdown",
   "metadata": {
    "id": "lUSnwRE9AyFK"
   },
   "source": [
    "###Apply PCA feature Extraction"
   ]
  },
  {
   "cell_type": "code",
   "metadata": {
    "colab": {
     "base_uri": "https://localhost:8080/"
    },
    "id": "mGnpoQcZA2HB",
    "outputId": "50bb23b3-2d76-4e82-a8ad-18b2c42e35fa"
   },
   "source": [
    "pca = PCA(n_components=3)\n",
    "fit = pca.fit(X)\n",
    "features = fit.transform(X)\n",
    "features.shape"
   ],
   "execution_count": null,
   "outputs": [
    {
     "output_type": "execute_result",
     "data": {
      "text/plain": [
       "(1000, 3)"
      ]
     },
     "metadata": {},
     "execution_count": 45
    }
   ]
  },
  {
   "cell_type": "markdown",
   "metadata": {
    "id": "m5bdSRMJ_-KK"
   },
   "source": [
    "# Implementing SVM with Scikit-Learn\n"
   ]
  },
  {
   "cell_type": "markdown",
   "metadata": {
    "id": "fbDfbdmZB0aU"
   },
   "source": [
    "## Importing libraires\n",
    "\n",
    "\n"
   ]
  },
  {
   "cell_type": "code",
   "metadata": {
    "id": "K81mHd7I_8vv"
   },
   "source": [
    "import numpy as np\n",
    "from sklearn.model_selection import KFold, cross_val_score\n",
    "from sklearn.metrics import accuracy_score\n",
    "from sklearn.svm import SVC\n",
    "from sklearn.datasets import make_classification\n",
    "from sklearn.model_selection import train_test_split"
   ],
   "execution_count": null,
   "outputs": []
  },
  {
   "cell_type": "markdown",
   "metadata": {
    "id": "0ARnMISvEjOm"
   },
   "source": [
    "## Prepare the dataset"
   ]
  },
  {
   "cell_type": "code",
   "metadata": {
    "id": "Xd4fwnq8DfYC"
   },
   "source": [
    "X, y = make_classification(n_samples=1000, n_features=2, n_informative=2, n_redundant=0, random_state=1)\n",
    "X_train, X_test, y_train, y_test = train_test_split(X, y, test_size=0.20)"
   ],
   "execution_count": null,
   "outputs": []
  },
  {
   "cell_type": "markdown",
   "metadata": {
    "id": "Zl75OICqE8i1"
   },
   "source": [
    "## Prepare our model and apply k-fold cross validation"
   ]
  },
  {
   "cell_type": "code",
   "metadata": {
    "colab": {
     "base_uri": "https://localhost:8080/"
    },
    "id": "QP4Hgpk-_8UP",
    "outputId": "85c81be0-cabf-4792-d5cc-e5600234dc49"
   },
   "source": [
    "k = 5\n",
    "kf = KFold(n_splits=k, random_state=None)\n",
    "model_svm = SVC(kernel='linear')\n",
    "acc_score = []\n",
    "print(y_train.shape)\n",
    "for train_index , test_index in kf.split(X_train):\n",
    "    X_train_kf , X_test_kf = X_train[train_index,:],X_train[test_index,:]\n",
    "    y_train_kf , y_test_kf = y_train[train_index] , y_train[test_index]\n",
    "     \n",
    "    model_svm.fit(X_train_kf,y_train_kf)\n",
    "    pred_values = model_svm.predict(X_test_kf)\n",
    "     \n",
    "    acc = accuracy_score(pred_values , y_test_kf)\n",
    "    acc_score.append(acc)\n",
    "\n",
    "avg_acc_score = sum(acc_score)/k\n",
    "print('accuracy of each fold - {}'.format(acc_score))\n",
    "print('Avg accuracy : {}'.format(avg_acc_score))"
   ],
   "execution_count": null,
   "outputs": [
    {
     "output_type": "stream",
     "name": "stdout",
     "text": [
      "(800,)\n",
      "accuracy of each fold - [0.88125, 0.875, 0.84375, 0.83125, 0.8625]\n",
      "Avg accuracy : 0.85875\n"
     ]
    }
   ]
  },
  {
   "cell_type": "markdown",
   "metadata": {
    "id": "7vr5l8T92wAP"
   },
   "source": [
    "#K-mean Clustering"
   ]
  },
  {
   "cell_type": "markdown",
   "metadata": {
    "id": "MzBiuLYI22gL"
   },
   "source": [
    "## Importing libraires"
   ]
  },
  {
   "cell_type": "code",
   "metadata": {
    "id": "_dEFjTh63D_V"
   },
   "source": [
    "import numpy as np\n",
    "import matplotlib.pyplot as plt\n",
    "from sklearn.cluster import KMeans\n",
    "from sklearn.datasets import make_classification"
   ],
   "execution_count": null,
   "outputs": []
  },
  {
   "cell_type": "markdown",
   "metadata": {
    "id": "qJEprC9a6ceO"
   },
   "source": [
    "##Prepare the dataset"
   ]
  },
  {
   "cell_type": "code",
   "metadata": {
    "id": "J5nsBmwd21ox"
   },
   "source": [
    "X, y = make_classification(n_samples=1000, n_features=2, n_informative=2, n_redundant=0, random_state=1, n_classes=2)"
   ],
   "execution_count": null,
   "outputs": []
  },
  {
   "cell_type": "markdown",
   "metadata": {
    "id": "MDV580CN2v3N"
   },
   "source": [
    "##Define the model for clustring"
   ]
  },
  {
   "cell_type": "code",
   "metadata": {
    "id": "Yniuyy_F6ihO"
   },
   "source": [
    "model_clustering = KMeans(n_clusters=2)\n",
    "model_clustering.fit(X)\n",
    "y_pred = model_clustering.predict(X)"
   ],
   "execution_count": null,
   "outputs": []
  },
  {
   "cell_type": "markdown",
   "metadata": {
    "id": "J8ji3hdL6xRM"
   },
   "source": [
    "##Plot samples for each cluster"
   ]
  },
  {
   "cell_type": "code",
   "metadata": {
    "colab": {
     "base_uri": "https://localhost:8080/",
     "height": 265
    },
    "id": "N93-DXUd6w0u",
    "outputId": "6699e4bf-c746-4c7d-80fe-0b29a7f3429b"
   },
   "source": [
    "clusters = np.unique(y_pred)\n",
    "for i in clusters:\n",
    "\tindex = np.where(y_pred == i)\n",
    "\tplt.scatter(X[index, 0], X[index, 1])\n",
    "plt.show()"
   ],
   "execution_count": null,
   "outputs": [
    {
     "output_type": "display_data",
     "data": {
      "image/png": "[encoded data removed]",
      "text/plain": [
       "<Figure size 432x288 with 1 Axes>"
      ]
     },
     "metadata": {
      "needs_background": "light"
     }
    }
   ]
  },
  {
   "cell_type": "markdown",
   "metadata": {
    "id": "fikBz8GlZre6"
   },
   "source": [
    "# Semi-Supervised Learning"
   ]
  },
  {
   "cell_type": "markdown",
   "metadata": {
    "id": "2pqkfq9tq85-"
   },
   "source": [
    "## Importing libraries"
   ]
  },
  {
   "cell_type": "code",
   "metadata": {
    "id": "w2SA7vgVq8Ju"
   },
   "source": [
    "import numpy as np\n",
    "from sklearn.datasets import make_classification\n",
    "from sklearn.model_selection import train_test_split\n",
    "from sklearn.linear_model import LogisticRegression\n",
    "from sklearn.metrics import accuracy_score\n",
    "from sklearn.semi_supervised import LabelPropagation"
   ],
   "execution_count": null,
   "outputs": []
  },
  {
   "cell_type": "markdown",
   "metadata": {
    "id": "dgWxyMuJrQqc"
   },
   "source": [
    "## Define a dataset for a semi-supervised classfication\n",
    "We will define a dataset with two classes and split it equally. Then split train data into labeled and unlabeled."
   ]
  },
  {
   "cell_type": "code",
   "metadata": {
    "id": "J_65zHHxqzbp"
   },
   "source": [
    "X, y = make_classification(n_samples=1000, n_features=2, n_informative=2, n_redundant=0, random_state=1)\n",
    "X_train, X_test, y_train, y_test = train_test_split(X, y, test_size=0.50, random_state=1, stratify=y)\n",
    "X_train_lab, X_train_unlab, y_train_lab, y_test_unlab = train_test_split(X_train, y_train, test_size=0.50, random_state=1, stratify=y_train)"
   ],
   "execution_count": null,
   "outputs": []
  },
  {
   "cell_type": "markdown",
   "metadata": {
    "id": "DVxm_PRGne9b"
   },
   "source": [
    "Creating the training dataset input by concatenation of the labeled and unlabed data."
   ]
  },
  {
   "cell_type": "code",
   "metadata": {
    "id": "XziLcr5IneCR"
   },
   "source": [
    "X_train_mixed = np.concatenate((X_train_lab, X_train_unlab))"
   ],
   "execution_count": null,
   "outputs": []
  },
  {
   "cell_type": "markdown",
   "metadata": {
    "id": "DqwcDs4IoJWp"
   },
   "source": [
    "Create an non-label vector for unlabeled data."
   ]
  },
  {
   "cell_type": "code",
   "metadata": {
    "colab": {
     "base_uri": "https://localhost:8080/"
    },
    "id": "UZfs43mCoO6_",
    "outputId": "082dcaf2-8f93-4dc7-9020-ac10ca1c8f00"
   },
   "source": [
    "non_label = np.full(X_train_unlab.shape[0], -1)\n",
    "non_label.shape"
   ],
   "execution_count": null,
   "outputs": [
    {
     "output_type": "execute_result",
     "data": {
      "text/plain": [
       "(250,)"
      ]
     },
     "metadata": {},
     "execution_count": 56
    }
   ]
  },
  {
   "cell_type": "markdown",
   "metadata": {
    "id": "ZE-ix7IvqNEA"
   },
   "source": [
    "Concatenate training dataset labels"
   ]
  },
  {
   "cell_type": "code",
   "metadata": {
    "id": "FpcV9ymuqPvl"
   },
   "source": [
    "y_train_mixed = np.concatenate((y_train_lab, non_label))"
   ],
   "execution_count": null,
   "outputs": []
  },
  {
   "cell_type": "markdown",
   "metadata": {
    "id": "mZQMp5Qdt9Uk"
   },
   "source": [
    "## Labeling model definition"
   ]
  },
  {
   "cell_type": "markdown",
   "metadata": {
    "id": "0UXPUSaWqciE"
   },
   "source": [
    "Define the model for label the unlabeled data using Label Propagation Model, and fit it on the mixed training data."
   ]
  },
  {
   "cell_type": "code",
   "metadata": {
    "colab": {
     "base_uri": "https://localhost:8080/"
    },
    "id": "ZlZcVJJRqsJU",
    "outputId": "9f59468b-0334-4b2d-87d7-ac668560ae09"
   },
   "source": [
    "labeling_model = LabelPropagation()\n",
    "labeling_model.fit(X_train_mixed, y_train_mixed)"
   ],
   "execution_count": null,
   "outputs": [
    {
     "output_type": "execute_result",
     "data": {
      "text/plain": [
       "LabelPropagation(gamma=20, kernel='rbf', max_iter=1000, n_jobs=None,\n",
       "                 n_neighbors=7, tol=0.001)"
      ]
     },
     "metadata": {},
     "execution_count": 58
    }
   ]
  },
  {
   "cell_type": "markdown",
   "metadata": {
    "id": "eVfYld3trw9f"
   },
   "source": [
    "Get labels for entire training dataset data\n"
   ]
  },
  {
   "cell_type": "code",
   "metadata": {
    "colab": {
     "base_uri": "https://localhost:8080/"
    },
    "id": "cx_ejwbjr28j",
    "outputId": "8ab17f66-d6e5-44ad-b539-b3fd52df7635"
   },
   "source": [
    "new_labels = labeling_model.transduction_\n",
    "new_labels"
   ],
   "execution_count": null,
   "outputs": [
    {
     "output_type": "execute_result",
     "data": {
      "text/plain": [
       "array([0, 0, 1, 1, 0, 1, 1, 0, 0, 1, 1, 1, 0, 0, 0, 1, 0, 0, 0, 0, 0, 0,\n",
       "       0, 0, 0, 1, 0, 1, 1, 1, 0, 1, 0, 1, 0, 1, 0, 0, 1, 1, 1, 1, 1, 0,\n",
       "       0, 0, 0, 1, 1, 0, 1, 1, 1, 1, 1, 1, 0, 1, 0, 1, 0, 0, 1, 0, 0, 0,\n",
       "       0, 1, 1, 0, 1, 0, 1, 1, 0, 1, 1, 0, 1, 0, 1, 0, 0, 0, 1, 1, 0, 1,\n",
       "       0, 1, 1, 1, 0, 0, 0, 1, 1, 1, 0, 0, 1, 1, 1, 1, 0, 0, 1, 1, 0, 1,\n",
       "       0, 1, 1, 1, 1, 1, 0, 1, 0, 0, 1, 0, 1, 0, 0, 0, 0, 0, 0, 0, 0, 1,\n",
       "       1, 1, 0, 0, 1, 1, 0, 0, 1, 1, 0, 0, 0, 0, 1, 0, 1, 0, 0, 0, 0, 0,\n",
       "       1, 1, 0, 1, 1, 0, 0, 0, 1, 1, 0, 1, 1, 1, 0, 1, 0, 1, 0, 1, 1, 0,\n",
       "       0, 1, 1, 0, 1, 0, 1, 0, 1, 1, 1, 1, 1, 1, 0, 0, 0, 1, 1, 0, 0, 1,\n",
       "       1, 1, 1, 1, 0, 0, 1, 0, 0, 1, 0, 1, 0, 1, 1, 0, 1, 1, 0, 1, 1, 0,\n",
       "       0, 1, 0, 1, 1, 0, 1, 1, 0, 1, 1, 1, 0, 0, 0, 1, 0, 0, 1, 1, 0, 0,\n",
       "       0, 0, 0, 0, 1, 0, 0, 1, 1, 0, 0, 1, 0, 0, 1, 1, 1, 1, 0, 1, 1, 0,\n",
       "       1, 1, 0, 1, 1, 1, 1, 1, 0, 1, 1, 0, 1, 1, 1, 1, 0, 0, 1, 0, 0, 1,\n",
       "       0, 0, 0, 0, 0, 0, 1, 1, 0, 1, 0, 1, 0, 1, 0, 0, 1, 0, 0, 1, 0, 1,\n",
       "       1, 1, 1, 0, 0, 0, 1, 1, 1, 1, 1, 1, 1, 0, 1, 1, 1, 0, 0, 0, 0, 0,\n",
       "       1, 0, 0, 1, 1, 1, 1, 0, 0, 1, 1, 1, 1, 0, 0, 1, 0, 0, 0, 0, 1, 0,\n",
       "       0, 0, 0, 1, 0, 0, 0, 0, 1, 1, 1, 1, 0, 1, 1, 0, 1, 1, 0, 0, 1, 0,\n",
       "       0, 0, 0, 0, 0, 0, 0, 0, 0, 0, 0, 1, 0, 0, 0, 1, 1, 1, 1, 0, 1, 1,\n",
       "       1, 0, 0, 1, 1, 1, 1, 1, 0, 1, 1, 1, 0, 0, 0, 1, 0, 1, 0, 0, 1, 1,\n",
       "       1, 1, 1, 0, 0, 1, 0, 1, 0, 0, 1, 1, 1, 1, 1, 1, 0, 0, 0, 0, 1, 1,\n",
       "       1, 0, 0, 0, 1, 1, 0, 0, 1, 0, 1, 1, 1, 0, 1, 0, 1, 0, 0, 1, 1, 0,\n",
       "       0, 1, 1, 0, 0, 0, 0, 0, 0, 1, 1, 0, 1, 0, 1, 0, 0, 0, 0, 0, 1, 0,\n",
       "       1, 0, 1, 0, 0, 1, 1, 1, 1, 1, 0, 0, 1, 1, 0, 0])"
      ]
     },
     "metadata": {},
     "execution_count": 59
    }
   ]
  },
  {
   "cell_type": "markdown",
   "metadata": {
    "id": "6WzQZGZquBa9"
   },
   "source": [
    "## Classification model definition"
   ]
  },
  {
   "cell_type": "markdown",
   "metadata": {
    "id": "EZAG3YS3bs08"
   },
   "source": [
    "Define our supervised learning model (Logistic Regression) for the classification and train it on all the dataset using the new labels, then compute the accuraty of it on using our test data."
   ]
  },
  {
   "cell_type": "code",
   "metadata": {
    "id": "zfYt-5yIoI5h",
    "colab": {
     "base_uri": "https://localhost:8080/"
    },
    "outputId": "17c19d6a-7077-4202-875f-b799731ea48c"
   },
   "source": [
    "model_class = LogisticRegression()\n",
    "model_class.fit(X_train_mixed, new_labels)"
   ],
   "execution_count": null,
   "outputs": [
    {
     "output_type": "execute_result",
     "data": {
      "text/plain": [
       "LogisticRegression(C=1.0, class_weight=None, dual=False, fit_intercept=True,\n",
       "                   intercept_scaling=1, l1_ratio=None, max_iter=100,\n",
       "                   multi_class='auto', n_jobs=None, penalty='l2',\n",
       "                   random_state=None, solver='lbfgs', tol=0.0001, verbose=0,\n",
       "                   warm_start=False)"
      ]
     },
     "metadata": {},
     "execution_count": 60
    }
   ]
  },
  {
   "cell_type": "code",
   "metadata": {
    "colab": {
     "base_uri": "https://localhost:8080/"
    },
    "id": "9OsdNzSzdBFH",
    "outputId": "878ee097-921c-4df2-c141-723989ea8d58"
   },
   "source": [
    "y_pred = model_class.predict(X_test)\n",
    "score = accuracy_score(y_test, y_pred)\n",
    "score"
   ],
   "execution_count": null,
   "outputs": [
    {
     "output_type": "execute_result",
     "data": {
      "text/plain": [
       "0.862"
      ]
     },
     "metadata": {},
     "execution_count": 61
    }
   ]
  },
  {
   "cell_type": "code",
   "metadata": {
    "id": "Pa7c6SPoBk1N"
   },
   "source": [
    ""
   ],
   "execution_count": null,
   "outputs": []
  }
 ]
}