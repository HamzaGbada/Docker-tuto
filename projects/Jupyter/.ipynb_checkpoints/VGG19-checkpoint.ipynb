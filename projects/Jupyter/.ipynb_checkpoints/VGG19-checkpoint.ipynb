{
 "cells": [
  {
   "cell_type": "code",
   "execution_count": null,
   "id": "4a480236-0bfb-4396-996f-b273bcc94720",
   "metadata": {},
   "outputs": [],
   "source": [
    "from __future__ import print_function\n",
    "import keras\n",
    "from keras.preprocessing.image import ImageDataGenerator\n",
    "from keras.models import Sequential\n",
    "from keras.layers import Dense, Dropout, Activation, Flatten\n",
    "from keras.layers import Conv2D, MaxPooling2D, ZeroPadding2D\n",
    "from keras.layers.normalization import BatchNormalization\n",
    "from keras.regularizers import l2\n",
    "from keras.optimizers import Adam\n",
    "\n",
    "\n",
    "\n",
    "def vgg_block(nbr_de_filter, nbr_de_conv_layer, shape, model, *input_shape):\n",
    "\n",
    "  if len(input_shape) == 0:\n",
    "      for _ in range(nbr_de_conv_layer):\n",
    "        model.add(Conv2D(filters=nbr_de_filter, kernel_size=(shape, shape), padding='same',activation='relu'))\n",
    "        model.add(BatchNormalization())\n",
    "      model.add(MaxPooling2D(pool_size=(2, 2), strides=(2, 2), padding='same'))\n",
    "      model.add(BatchNormalization())\n",
    "  else:\n",
    "      model.add(Conv2D(input_shape=input_shape[0],filters=nbr_de_filter,kernel_size=(shape, shape),padding=\"same\", activation=\"relu\"))\n",
    "      model.add(BatchNormalization())\n",
    "      for _ in range(nbr_de_conv_layer-1):\n",
    "        model.add(Conv2D(filters=nbr_de_filter, kernel_size=(shape, shape), padding='same',activation='relu'))\n",
    "        model.add(BatchNormalization())\n",
    "      model.add(MaxPooling2D(pool_size=(2, 2), strides=(2, 2), padding='same'))\n",
    "      model.add(BatchNormalization())\n",
    "  \n",
    "  return model"
   ]
  }
 ],
 "metadata": {
  "kernelspec": {
   "display_name": "Python 3 (ipykernel)",
   "language": "python",
   "name": "python3"
  },
  "language_info": {
   "codemirror_mode": {
    "name": "ipython",
    "version": 3
   },
   "file_extension": ".py",
   "mimetype": "text/x-python",
   "name": "python",
   "nbconvert_exporter": "python",
   "pygments_lexer": "ipython3",
   "version": "3.9.6"
  }
 },
 "nbformat": 4,
 "nbformat_minor": 5
}
