{
 "cells": [
  {
   "cell_type": "code",
   "execution_count": null,
   "id": "4a480236-0bfb-4396-996f-b273bcc94720",
   "metadata": {},
   "outputs": [],
   "source": [
    "from __future__ import print_function\n",
    "import keras\n",
    "from keras.preprocessing.image import ImageDataGenerator\n",
    "from keras.models import Sequential\n",
    "from keras.layers import Dense, Dropout, Activation, Flatten\n",
    "from keras.layers import Conv2D, MaxPooling2D, ZeroPadding2D\n",
    "from keras.layers.normalization import BatchNormalization\n",
    "from keras.regularizers import l2\n",
    "from keras.optimizers import Adam\n",
    "\n",
    "\n",
    "\n",
    "def vgg_block(nbr_de_filter, nbr_de_conv_layer, shape, model, *input_shape):\n",
    "\n",
    "  if len(input_shape) == 0:\n",
    "      for _ in range(nbr_de_conv_layer):\n",
    "        model.add(Conv2D(filters=nbr_de_filter, kernel_size=(shape, shape), padding='same',activation='relu'))\n",
    "        model.add(BatchNormalization())\n",
    "      model.add(MaxPooling2D(pool_size=(2, 2), strides=(2, 2), padding='same'))\n",
    "      model.add(BatchNormalization())\n",
    "  else:\n",
    "      model.add(Conv2D(input_shape=input_shape[0],filters=nbr_de_filter,kernel_size=(shape, shape),padding=\"same\", activation=\"relu\"))\n",
    "      model.add(BatchNormalization())\n",
    "      for _ in range(nbr_de_conv_layer-1):\n",
    "        model.add(Conv2D(filters=nbr_de_filter, kernel_size=(shape, shape), padding='same',activation='relu'))\n",
    "        model.add(BatchNormalization())\n",
    "      model.add(MaxPooling2D(pool_size=(2, 2), strides=(2, 2), padding='same'))\n",
    "      model.add(BatchNormalization())\n",
    "  \n",
    "  return model"
   ]
  },
  {
   "cell_type": "code",
   "execution_count": null,
   "id": "cbaeba31-f932-4ba7-b0a6-4389be6f0e06",
   "metadata": {},
   "outputs": [],
   "source": [
    "def vgg_network(conv_architect, input_shape):\n",
    "  network = Sequential()\n",
    "\n",
    "  # Conv blocks\n",
    "  compt = 0\n",
    "  for (nbr_de_filter, nbr_de_conv_layer, shape) in conv_architect:\n",
    "    if compt == 0:\n",
    "      network = vgg_block(nbr_de_filter,nbr_de_conv_layer, shape, network,input_shape)\n",
    "      compt=compt+1\n",
    "    else:\n",
    "      network = vgg_block(nbr_de_filter,nbr_de_conv_layer, shape, network)\n",
    "\n",
    "  # The three fully connected layer\n",
    "  network.add(Flatten())\n",
    "  network.add(Dense(units=4096,activation=\"relu\"))\n",
    "  network.add(Dropout(0.5))\n",
    "  \n",
    "  # network.add(Flatten())\n",
    "  network.add(Dense(units=4096,activation=\"relu\"))\n",
    "  network.add(Dropout(0.5))\n",
    "\n",
    "  network.add(Dense(units=1000,activation=\"softmax\"))\n",
    "  opt = Adam(lr=0.001)\n",
    "  network.compile(optimizer=opt, loss=keras.losses.categorical_crossentropy, metrics=['accuracy'])\n",
    "\n",
    "  return network\n"
   ]
  },
  {
   "cell_type": "code",
   "execution_count": null,
   "id": "ae112ee1-35bf-4356-82e1-a7639ea24fb4",
   "metadata": {},
   "outputs": [],
   "source": [
    "# definie nbr of filter, nbr de layer and shape of kernel in each block\n",
    "conv_architect = [[64,2,3],[128, 2, 3], [256, 4, 3], [512, 4, 2], [512, 4, 3]]"
   ]
  },
  {
   "cell_type": "code",
   "execution_count": null,
   "id": "7b1969e7-f428-40f8-9cb5-b320ce606415",
   "metadata": {},
   "outputs": [],
   "source": [
    "model = vgg_network(conv_architect,(224,224,3))\n",
    "print(model.summary())"
   ]
  }
 ],
 "metadata": {
  "kernelspec": {
   "display_name": "Python 3 (ipykernel)",
   "language": "python",
   "name": "python3"
  },
  "language_info": {
   "codemirror_mode": {
    "name": "ipython",
    "version": 3
   },
   "file_extension": ".py",
   "mimetype": "text/x-python",
   "name": "python",
   "nbconvert_exporter": "python",
   "pygments_lexer": "ipython3",
   "version": "3.9.6"
  }
 },
 "nbformat": 4,
 "nbformat_minor": 5
}
